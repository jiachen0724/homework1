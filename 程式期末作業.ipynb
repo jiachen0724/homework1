{
  "nbformat": 4,
  "nbformat_minor": 0,
  "metadata": {
    "colab": {
      "provenance": [],
      "authorship_tag": "ABX9TyO5wkR/0um64JyGxyNo4AaF",
      "include_colab_link": true
    },
    "kernelspec": {
      "name": "python3",
      "display_name": "Python 3"
    },
    "language_info": {
      "name": "python"
    }
  },
  "cells": [
    {
      "cell_type": "markdown",
      "metadata": {
        "id": "view-in-github",
        "colab_type": "text"
      },
      "source": [
        "<a href=\"https://colab.research.google.com/github/jiachen0724/homework1/blob/main/%E7%A8%8B%E5%BC%8F%E6%9C%9F%E6%9C%AB%E4%BD%9C%E6%A5%AD.ipynb\" target=\"_parent\"><img src=\"https://colab.research.google.com/assets/colab-badge.svg\" alt=\"Open In Colab\"/></a>"
      ]
    },
    {
      "cell_type": "code",
      "execution_count": null,
      "metadata": {
        "colab": {
          "base_uri": "https://localhost:8080/"
        },
        "id": "hf01B_ylyYzu",
        "outputId": "19016d90-b1f0-4c2e-aaa7-e052c8f216aa"
      },
      "outputs": [
        {
          "output_type": "stream",
          "name": "stdout",
          "text": [
            "旅遊順序: A -> E -> D -> C -> B -> F -> G\n",
            "總旅費: 48704.57613804574\n"
          ]
        }
      ],
      "source": [
        "import math\n",
        "\n",
        "class City:\n",
        "    def __init__(self, name, coordinates, accommodation_cost):\n",
        "        self.name = name\n",
        "        self.coordinates = coordinates\n",
        "        self.accommodation_cost = accommodation_cost\n",
        "\n",
        "    def calculate_discounted_cost(self, previous_city):\n",
        "        if previous_city == 'C' or previous_city == 'G':\n",
        "            return 0.8 * self.accommodation_cost\n",
        "        else:\n",
        "            return self.accommodation_cost\n",
        "\n",
        "def calculate_distance(city1, city2):\n",
        "    x1, y1 = city1.coordinates\n",
        "    x2, y2 = city2.coordinates\n",
        "    return math.sqrt((x2 - x1)**2 + (y2 - y1)**2)\n",
        "\n",
        "def find_cheapest_route(start_city):\n",
        "    cities = {\n",
        "        'A': City('A', (0, 0), 2000),\n",
        "        'B': City('B', (0, 120), 2400),\n",
        "        'C': City('C', (30, 100), 2400),\n",
        "        'D': City('D', (80, 0), 1600),\n",
        "        'E': City('E', (45, 10), 1500),\n",
        "        'F': City('F', (90, 160), 2200),\n",
        "        'G': City('G', (120, 200), 1200)\n",
        "    }\n",
        "\n",
        "    route = [start_city]\n",
        "    total_cost = 0\n",
        "\n",
        "    current_city = start_city\n",
        "    unvisited_cities = set(cities.keys()) - {start_city}\n",
        "\n",
        "    while unvisited_cities:\n",
        "        next_city = min(unvisited_cities, key=lambda city: calculate_distance(cities[current_city], cities[city]))\n",
        "        total_cost += calculate_distance(cities[current_city], cities[next_city]) * 100 + cities[next_city].calculate_discounted_cost(current_city)\n",
        "        route.append(next_city)\n",
        "        unvisited_cities.remove(next_city)\n",
        "        current_city = next_city\n",
        "\n",
        "    return route, total_cost\n",
        "\n",
        "start_city = 'A'\n",
        "route, total_cost = find_cheapest_route(start_city)\n",
        "\n",
        "print(\"旅遊順序:\", \" -> \".join(route))\n",
        "print(\"總旅費:\", total_cost)"
      ]
    }
  ]
}