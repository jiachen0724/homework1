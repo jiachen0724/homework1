{
  "nbformat": 4,
  "nbformat_minor": 0,
  "metadata": {
    "colab": {
      "provenance": [],
      "authorship_tag": "ABX9TyP/DEDk6wrLCkH3oTnBqEBF",
      "include_colab_link": true
    },
    "kernelspec": {
      "name": "python3",
      "display_name": "Python 3"
    },
    "language_info": {
      "name": "python"
    }
  },
  "cells": [
    {
      "cell_type": "markdown",
      "metadata": {
        "id": "view-in-github",
        "colab_type": "text"
      },
      "source": [
        "<a href=\"https://colab.research.google.com/github/jiachen0724/homework1/blob/main/%E4%BD%9C%E6%A5%AD2.ipynb\" target=\"_parent\"><img src=\"https://colab.research.google.com/assets/colab-badge.svg\" alt=\"Open In Colab\"/></a>"
      ]
    },
    {
      "cell_type": "code",
      "execution_count": 2,
      "metadata": {
        "colab": {
          "base_uri": "https://localhost:8080/"
        },
        "id": "mrGjDSA8dnYJ",
        "outputId": "ce42da6d-9dda-4e21-9d59-640fadeb29cc"
      },
      "outputs": [
        {
          "output_type": "stream",
          "name": "stdout",
          "text": [
            "共有 127 個字\n"
          ]
        }
      ],
      "source": [
        "a=str(\" 大道之行也，天  下為公。 選賢與能，講信  修睦。故人不獨親其親，不獨子其子；使老有所終，壯有 所用，幼有 所長，矜寡孤獨廢疾者，皆有所養；男有分 女有歸。貨惡其棄 於地也不必藏於  己；力惡其不  出於身也不必為己。是故 謀閉而不興 ，盜竊亂賊而不作，故外戶而 不閉，是謂「大同」。\")\n",
        "b=a.replace(\" \",\"\")\n",
        "c=len(b)\n",
        "print(\"共有\",c,\"個字\")\n"
      ]
    },
    {
      "cell_type": "code",
      "source": [
        "a=\"\"\" 大道之行也，天  下為公。 選賢與能，講信  修睦。故人不獨親其親，不獨子其子；使老有所終，壯有 所用，幼有 所長，矜寡孤獨廢疾者，皆有所養；男有分 女有歸。貨惡其棄 於地也不必藏於  己；力惡其不  出於身也不必為己。是故 謀閉而不興 ，盜竊亂賊而不作，故外戶而 不閉，是謂「大同」。\"\"\"\n",
        "b=\"\\n\".join(a.split(\"，\"))\n",
        "c=\"\\n\".join(b.split(\"。\"))\n",
        "d=\"\\n\".join(c.split(\"；\"))\n",
        "\n",
        "print(d)"
      ],
      "metadata": {
        "colab": {
          "base_uri": "https://localhost:8080/"
        },
        "id": "vDLQyvMEfbCa",
        "outputId": "c6437c85-3b46-4d1a-ed2c-55b83f5f4ed4"
      },
      "execution_count": 3,
      "outputs": [
        {
          "output_type": "stream",
          "name": "stdout",
          "text": [
            " 大道之行也\n",
            "天  下為公\n",
            " 選賢與能\n",
            "講信  修睦\n",
            "故人不獨親其親\n",
            "不獨子其子\n",
            "使老有所終\n",
            "壯有 所用\n",
            "幼有 所長\n",
            "矜寡孤獨廢疾者\n",
            "皆有所養\n",
            "男有分 女有歸\n",
            "貨惡其棄 於地也不必藏於  己\n",
            "力惡其不  出於身也不必為己\n",
            "是故 謀閉而不興 \n",
            "盜竊亂賊而不作\n",
            "故外戶而 不閉\n",
            "是謂「大同」\n",
            "\n"
          ]
        }
      ]
    },
    {
      "cell_type": "code",
      "source": [
        "S=(b.count('不'))\n",
        "print(\"(不)共有\",S,\"個字\")\n"
      ],
      "metadata": {
        "colab": {
          "base_uri": "https://localhost:8080/"
        },
        "id": "yICqwuLgfeRq",
        "outputId": "c21c5fdf-7195-4548-c968-2a37969a856a"
      },
      "execution_count": 4,
      "outputs": [
        {
          "output_type": "stream",
          "name": "stdout",
          "text": [
            "(不)共有 8 個字\n"
          ]
        }
      ]
    }
  ]
}